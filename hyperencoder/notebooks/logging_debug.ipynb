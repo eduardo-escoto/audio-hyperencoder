{
 "cells": [
  {
   "cell_type": "code",
   "execution_count": 1,
   "id": "9bb1ca0b",
   "metadata": {},
   "outputs": [],
   "source": [
    "import os \n",
    "# os.environ[\"CUDA_VISIBLE_DEVICES\"] = \"3\"\n",
    "import torch\n",
    "from safetensors.torch import safe_open, load_file"
   ]
  },
  {
   "cell_type": "code",
   "execution_count": 2,
   "id": "81761185",
   "metadata": {},
   "outputs": [
    {
     "data": {
      "text/plain": [
       "{'decoded_reals': tensor([[[-0.1608,  0.0469, -0.1351,  ..., -0.4351,  0.1161, -0.5239],\n",
       "          [-0.1598,  0.0712, -0.1313,  ..., -0.4067,  0.1487, -0.4985]]],\n",
       "        dtype=torch.float16),\n",
       " 'input_reals': tensor([[[-0.0588, -0.0650, -0.0710,  ..., -0.2718, -0.2788, -0.2839],\n",
       "          [-0.0862, -0.0951, -0.1036,  ..., -0.2409, -0.2474, -0.2523]]]),\n",
       " 'latents': tensor([[[-2.7061,  0.3499,  0.1778,  ..., -0.1533,  2.6817, -0.5494],\n",
       "          [ 0.3868, -1.1218,  0.3037,  ..., -1.0841,  0.2881,  0.9125],\n",
       "          [-0.8130,  0.2812,  0.4718,  ...,  0.1032,  0.2817, -0.4504],\n",
       "          ...,\n",
       "          [-0.8100,  0.4720,  0.2521,  ...,  0.5886, -1.1901,  2.3176],\n",
       "          [-0.4868, -0.0412, -1.7138,  ..., -0.0423, -1.2511, -0.1448],\n",
       "          [ 1.3777,  0.0778, -0.8573,  ...,  0.3437, -0.5661,  0.5381]]]),\n",
       " 'padding_mask': tensor([1., 1., 1.,  ..., 1., 1., 1.]),\n",
       " 'pre_bottleneck_latents': tensor([[[-2.7246,  0.4211,  0.1371,  ..., -0.2146,  2.6719, -0.5493],\n",
       "          [ 0.4409, -1.0664,  0.2477,  ..., -1.0928,  0.3376,  0.8672],\n",
       "          [-0.8672,  0.3281,  0.5732,  ...,  0.2036,  0.2429, -0.4202],\n",
       "          ...,\n",
       "          [-2.9512, -2.8008, -2.9277,  ..., -2.9434, -3.0371, -3.0332],\n",
       "          [-2.7461, -2.8301, -2.8535,  ..., -3.0117, -3.0117, -2.7617],\n",
       "          [-2.7676, -2.8105, -2.8301,  ..., -3.0293, -3.0176, -2.9082]]],\n",
       "        dtype=torch.float16),\n",
       " 'processed_input_reals': tensor([[[-0.0588, -0.0650, -0.0710,  ..., -0.2718, -0.2788, -0.2839],\n",
       "          [-0.0862, -0.0951, -0.1036,  ..., -0.2409, -0.2474, -0.2523]]]),\n",
       " 'trimmed_input_reals': tensor([[[-0.0588, -0.0650, -0.0710,  ..., -0.2718, -0.2788, -0.2839],\n",
       "          [-0.0862, -0.0951, -0.1036,  ..., -0.2409, -0.2474, -0.2523]]])}"
      ]
     },
     "execution_count": 2,
     "metadata": {},
     "output_type": "execute_result"
    }
   ],
   "source": [
    "load_file(\"/home/eduardo/Projects/pre_encode_audio/data/pre_encoded_sPDMX/data/R/2/QmR2AXSTRmDzX4KisejpXNFWfopqiDBf7puqqBCfCtUiJn.safetensors\",device=\"cpu\")"
   ]
  },
  {
   "cell_type": "code",
   "execution_count": null,
   "id": "066cc9d8",
   "metadata": {},
   "outputs": [],
   "source": []
  },
  {
   "cell_type": "code",
   "execution_count": null,
   "id": "0eaa322e",
   "metadata": {},
   "outputs": [],
   "source": [
    "tensors = {}\n",
    "with safe_open(\n",
    "    \"/home/eduardo/Projects/pre_encode_audio/data/pre_encoded_sPDMX/data/R/2/QmR2AXSTRmDzX4KisejpXNFWfopqiDBf7puqqBCfCtUiJn.safetensors\",\n",
    "    framework=\"pt\",\n",
    "    device=\"cpu\"\n",
    ") as f:\n",
    "    for k in f.keys():\n",
    "        tensors[k] = f.get_tensor(k)"
   ]
  },
  {
   "cell_type": "code",
   "execution_count": 3,
   "id": "e3f1ba55",
   "metadata": {},
   "outputs": [
    {
     "name": "stdout",
     "output_type": "stream",
     "text": [
      "['decoded_reals', 'input_reals', 'latents', 'padding_mask', 'pre_bottleneck_latents', 'processed_input_reals', 'trimmed_input_reals']\n"
     ]
    }
   ],
   "source": [
    "print(list(tensors.keys()))"
   ]
  },
  {
   "cell_type": "code",
   "execution_count": 6,
   "id": "7a93749e",
   "metadata": {},
   "outputs": [
    {
     "name": "stdout",
     "output_type": "stream",
     "text": [
      "decoded_reals: shape: torch.Size([1, 2, 2097152]), dim: 3\n",
      "input_reals: shape: torch.Size([1, 2, 2097152]), dim: 3\n",
      "latents: shape: torch.Size([1, 64, 1024]), dim: 3\n",
      "padding_mask: shape: torch.Size([2097152]), dim: 1\n",
      "pre_bottleneck_latents: shape: torch.Size([1, 128, 1024]), dim: 3\n",
      "processed_input_reals: shape: torch.Size([1, 2, 2097152]), dim: 3\n",
      "trimmed_input_reals: shape: torch.Size([1, 2, 2097152]), dim: 3\n"
     ]
    }
   ],
   "source": [
    "for key, tensor in tensors.items():\n",
    "    print(f\"{key}: shape: {tensors[key].shape}, dim: {tensors[key].dim()}\")"
   ]
  },
  {
   "cell_type": "code",
   "execution_count": 37,
   "id": "ae1e36e6",
   "metadata": {},
   "outputs": [
    {
     "ename": "KeyError",
     "evalue": "'demo_encoded_inner_latents'",
     "output_type": "error",
     "traceback": [
      "\u001b[0;31m---------------------------------------------------------------------------\u001b[0m",
      "\u001b[0;31mKeyError\u001b[0m                                  Traceback (most recent call last)",
      "Cell \u001b[0;32mIn[37], line 1\u001b[0m\n\u001b[0;32m----> 1\u001b[0m \u001b[43mtensors\u001b[49m\u001b[43m[\u001b[49m\u001b[38;5;124;43m'\u001b[39;49m\u001b[38;5;124;43mdemo_encoded_inner_latents\u001b[39;49m\u001b[38;5;124;43m'\u001b[39;49m\u001b[43m]\u001b[49m[\u001b[38;5;241m0\u001b[39m]\n",
      "\u001b[0;31mKeyError\u001b[0m: 'demo_encoded_inner_latents'"
     ]
    }
   ],
   "source": [
    "tensors['demo_encoded_inner_latents'][0]"
   ]
  },
  {
   "cell_type": "code",
   "execution_count": 32,
   "id": "1f0e1c33",
   "metadata": {},
   "outputs": [
    {
     "data": {
      "text/plain": [
       "tensor([[ 0.0368,  0.0474],\n",
       "        [-0.0056,  0.0499],\n",
       "        [-0.0518, -0.0183],\n",
       "        [ 0.0256,  0.0911]], device='cuda:0')"
      ]
     },
     "execution_count": 32,
     "metadata": {},
     "output_type": "execute_result"
    }
   ],
   "source": [
    "tensors['demo_encoded_pre_bottleneck_latents'][0]"
   ]
  },
  {
   "cell_type": "code",
   "execution_count": null,
   "id": "993d68c8",
   "metadata": {},
   "outputs": [],
   "source": []
  }
 ],
 "metadata": {
  "kernelspec": {
   "display_name": ".venv",
   "language": "python",
   "name": "python3"
  },
  "language_info": {
   "codemirror_mode": {
    "name": "ipython",
    "version": 3
   },
   "file_extension": ".py",
   "mimetype": "text/x-python",
   "name": "python",
   "nbconvert_exporter": "python",
   "pygments_lexer": "ipython3",
   "version": "3.9.20"
  }
 },
 "nbformat": 4,
 "nbformat_minor": 5
}
